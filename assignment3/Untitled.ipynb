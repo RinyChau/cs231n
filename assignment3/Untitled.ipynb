{
 "cells": [
  {
   "cell_type": "code",
   "execution_count": 1,
   "metadata": {
    "collapsed": false
   },
   "outputs": [
    {
     "name": "stdout",
     "output_type": "stream",
     "text": [
      "Requirement already satisfied: Cython==0.23.4 in /home/szhao4/anaconda3/envs/py27/lib/python2.7/site-packages (from -r requirements.txt (line 1))\n",
      "Requirement already satisfied: Jinja2==2.8 in /home/szhao4/anaconda3/envs/py27/lib/python2.7/site-packages (from -r requirements.txt (line 2))\n",
      "Requirement already satisfied: MarkupSafe==0.23 in /home/szhao4/anaconda3/envs/py27/lib/python2.7/site-packages (from -r requirements.txt (line 3))\n",
      "Requirement already satisfied: Pygments==2.0.2 in /home/szhao4/anaconda3/envs/py27/lib/python2.7/site-packages (from -r requirements.txt (line 4))\n",
      "Requirement already satisfied: appnope==0.1.0 in /home/szhao4/anaconda3/envs/py27/lib/python2.7/site-packages (from -r requirements.txt (line 5))\n",
      "Requirement already satisfied: argparse==1.2.1 in /home/szhao4/anaconda3/envs/py27/lib/python2.7/site-packages (from -r requirements.txt (line 6))\n",
      "Requirement already satisfied: backports-abc==0.4 in /home/szhao4/anaconda3/envs/py27/lib/python2.7/site-packages (from -r requirements.txt (line 7))\n",
      "Requirement already satisfied: backports.ssl-match-hostname==3.5.0.1 in /home/szhao4/anaconda3/envs/py27/lib/python2.7/site-packages (from -r requirements.txt (line 8))\n",
      "Requirement already satisfied: certifi==2015.11.20.1 in /home/szhao4/anaconda3/envs/py27/lib/python2.7/site-packages (from -r requirements.txt (line 9))\n",
      "Collecting cycler==0.9.0 (from -r requirements.txt (line 10))\n",
      "  Using cached cycler-0.9.0-py2.py3-none-any.whl\n",
      "Requirement already satisfied: decorator==4.0.6 in /home/szhao4/anaconda3/envs/py27/lib/python2.7/site-packages (from -r requirements.txt (line 11))\n",
      "Requirement already satisfied: functools32==3.2.3-2 in /home/szhao4/anaconda3/envs/py27/lib/python2.7/site-packages (from -r requirements.txt (line 12))\n",
      "Requirement already satisfied: gnureadline==6.3.3 in /home/szhao4/anaconda3/envs/py27/lib/python2.7/site-packages (from -r requirements.txt (line 13))\n",
      "Requirement already satisfied: ipykernel==4.2.2 in /home/szhao4/anaconda3/envs/py27/lib/python2.7/site-packages (from -r requirements.txt (line 14))\n",
      "Requirement already satisfied: ipython==4.0.1 in /home/szhao4/anaconda3/envs/py27/lib/python2.7/site-packages (from -r requirements.txt (line 15))\n",
      "Requirement already satisfied: ipython-genutils==0.1.0 in /home/szhao4/anaconda3/envs/py27/lib/python2.7/site-packages (from -r requirements.txt (line 16))\n",
      "Requirement already satisfied: ipywidgets==4.1.1 in /home/szhao4/anaconda3/envs/py27/lib/python2.7/site-packages (from -r requirements.txt (line 17))\n",
      "Requirement already satisfied: jsonschema==2.5.1 in /home/szhao4/anaconda3/envs/py27/lib/python2.7/site-packages (from -r requirements.txt (line 18))\n",
      "Requirement already satisfied: jupyter==1.0.0 in /home/szhao4/anaconda3/envs/py27/lib/python2.7/site-packages (from -r requirements.txt (line 19))\n",
      "Requirement already satisfied: jupyter-client==4.1.1 in /home/szhao4/anaconda3/envs/py27/lib/python2.7/site-packages (from -r requirements.txt (line 20))\n",
      "Requirement already satisfied: jupyter-console==4.0.3 in /home/szhao4/anaconda3/envs/py27/lib/python2.7/site-packages (from -r requirements.txt (line 21))\n",
      "Requirement already satisfied: jupyter-core==4.0.6 in /home/szhao4/anaconda3/envs/py27/lib/python2.7/site-packages (from -r requirements.txt (line 22))\n",
      "Requirement already satisfied: mistune==0.7.1 in /home/szhao4/anaconda3/envs/py27/lib/python2.7/site-packages (from -r requirements.txt (line 23))\n",
      "Requirement already satisfied: nbconvert==4.1.0 in /home/szhao4/anaconda3/envs/py27/lib/python2.7/site-packages (from -r requirements.txt (line 24))\n",
      "Requirement already satisfied: nbformat==4.0.1 in /home/szhao4/anaconda3/envs/py27/lib/python2.7/site-packages (from -r requirements.txt (line 25))\n",
      "Requirement already satisfied: notebook==4.0.6 in /home/szhao4/anaconda3/envs/py27/lib/python2.7/site-packages (from -r requirements.txt (line 26))\n",
      "Requirement already satisfied: numpy==1.10.4 in /home/szhao4/anaconda3/envs/py27/lib/python2.7/site-packages (from -r requirements.txt (line 27))\n",
      "Requirement already satisfied: path.py==8.1.2 in /home/szhao4/anaconda3/envs/py27/lib/python2.7/site-packages (from -r requirements.txt (line 28))\n",
      "Requirement already satisfied: pexpect==4.0.1 in /home/szhao4/anaconda3/envs/py27/lib/python2.7/site-packages (from -r requirements.txt (line 29))\n",
      "Requirement already satisfied: pickleshare==0.5 in /home/szhao4/anaconda3/envs/py27/lib/python2.7/site-packages (from -r requirements.txt (line 30))\n",
      "Requirement already satisfied: ptyprocess==0.5 in /home/szhao4/anaconda3/envs/py27/lib/python2.7/site-packages (from -r requirements.txt (line 31))\n",
      "Requirement already satisfied: pyparsing==2.0.7 in /home/szhao4/anaconda3/envs/py27/lib/python2.7/site-packages (from -r requirements.txt (line 32))\n",
      "Requirement already satisfied: python-dateutil==2.4.2 in /home/szhao4/anaconda3/envs/py27/lib/python2.7/site-packages (from -r requirements.txt (line 33))\n",
      "Requirement already satisfied: pytz==2015.7 in /home/szhao4/anaconda3/envs/py27/lib/python2.7/site-packages (from -r requirements.txt (line 34))\n",
      "Requirement already satisfied: pyzmq==15.1.0 in /home/szhao4/anaconda3/envs/py27/lib/python2.7/site-packages (from -r requirements.txt (line 35))\n",
      "Requirement already satisfied: qtconsole==4.1.1 in /home/szhao4/anaconda3/envs/py27/lib/python2.7/site-packages (from -r requirements.txt (line 36))\n",
      "Requirement already satisfied: scipy==0.16.1 in /home/szhao4/anaconda3/envs/py27/lib/python2.7/site-packages (from -r requirements.txt (line 37))\n",
      "Requirement already satisfied: simplegeneric==0.8.1 in /home/szhao4/anaconda3/envs/py27/lib/python2.7/site-packages (from -r requirements.txt (line 38))\n",
      "Requirement already satisfied: singledispatch==3.4.0.3 in /home/szhao4/anaconda3/envs/py27/lib/python2.7/site-packages (from -r requirements.txt (line 39))\n",
      "Requirement already satisfied: six==1.10.0 in /home/szhao4/anaconda3/envs/py27/lib/python2.7/site-packages (from -r requirements.txt (line 40))\n",
      "Requirement already satisfied: terminado==0.5 in /home/szhao4/anaconda3/envs/py27/lib/python2.7/site-packages (from -r requirements.txt (line 41))\n",
      "Requirement already satisfied: tornado==4.3 in /home/szhao4/anaconda3/envs/py27/lib/python2.7/site-packages (from -r requirements.txt (line 42))\n",
      "Requirement already satisfied: traitlets==4.0.0 in /home/szhao4/anaconda3/envs/py27/lib/python2.7/site-packages (from -r requirements.txt (line 43))\n",
      "Requirement already satisfied: wsgiref==0.1.2 in /home/szhao4/anaconda3/envs/py27/lib/python2.7 (from -r requirements.txt (line 44))\n",
      "Installing collected packages: cycler\n",
      "  Found existing installation: cycler 0.10.0\n",
      "    Uninstalling cycler-0.10.0:\n",
      "      Successfully uninstalled cycler-0.10.0\n",
      "Successfully installed cycler-0.9.0\n"
     ]
    }
   ],
   "source": [
    "!pip install -r requirements.txt"
   ]
  },
  {
   "cell_type": "code",
   "execution_count": 4,
   "metadata": {
    "collapsed": false
   },
   "outputs": [
    {
     "name": "stdout",
     "output_type": "stream",
     "text": [
      "Collecting cycler\n",
      "  Using cached cycler-0.10.0-py2.py3-none-any.whl\n",
      "Requirement already up-to-date: six in /home/szhao4/anaconda3/envs/py27/lib/python2.7/site-packages (from cycler)\n",
      "Installing collected packages: cycler\n",
      "  Found existing installation: cycler 0.9.0\n",
      "    Uninstalling cycler-0.9.0:\n",
      "      Successfully uninstalled cycler-0.9.0\n",
      "Successfully installed cycler-0.10.0\n"
     ]
    }
   ],
   "source": [
    "!pip install --upgrade cycler"
   ]
  },
  {
   "cell_type": "code",
   "execution_count": 5,
   "metadata": {
    "collapsed": false
   },
   "outputs": [
    {
     "name": "stdout",
     "output_type": "stream",
     "text": [
      "python: can't open file 'setup.py': [Errno 2] No such file or directory\r\n"
     ]
    }
   ],
   "source": [
    "!python setup.py build_ext --inplace"
   ]
  },
  {
   "cell_type": "code",
   "execution_count": 2,
   "metadata": {
    "collapsed": false
   },
   "outputs": [
    {
     "name": "stdout",
     "output_type": "stream",
     "text": [
      "Collecting scikit-image\n",
      "  Downloading scikit_image-0.13.1-cp27-cp27mu-manylinux1_x86_64.whl (35.2MB)\n",
      "\u001b[K    100% |████████████████████████████████| 35.2MB 35kB/s \n",
      "\u001b[?25hRequirement already satisfied: matplotlib>=1.3.1 in /home/szhao4/anaconda3/envs/py27/lib/python2.7/site-packages (from scikit-image)\n",
      "Requirement already satisfied: six>=1.7.3 in /home/szhao4/anaconda3/envs/py27/lib/python2.7/site-packages (from scikit-image)\n",
      "Requirement already satisfied: pillow>=2.1.0 in /home/szhao4/anaconda3/envs/py27/lib/python2.7/site-packages (from scikit-image)\n",
      "Collecting networkx>=1.8 (from scikit-image)\n",
      "  Downloading networkx-2.0.zip (1.5MB)\n",
      "\u001b[K    100% |████████████████████████████████| 1.6MB 460kB/s \n",
      "\u001b[?25hCollecting PyWavelets>=0.4.0 (from scikit-image)\n",
      "  Downloading PyWavelets-0.5.2-cp27-cp27mu-manylinux1_x86_64.whl (5.6MB)\n",
      "\u001b[K    100% |████████████████████████████████| 5.7MB 165kB/s \n",
      "\u001b[?25hCollecting scipy>=0.17.0 (from scikit-image)\n",
      "  Downloading scipy-0.19.1-cp27-cp27mu-manylinux1_x86_64.whl (45.0MB)\n",
      "\u001b[K    100% |████████████████████████████████| 45.0MB 27kB/s \n",
      "\u001b[?25hRequirement already satisfied: numpy>=1.7.1 in /home/szhao4/anaconda3/envs/py27/lib/python2.7/site-packages (from matplotlib>=1.3.1->scikit-image)\n",
      "Requirement already satisfied: python-dateutil in /home/szhao4/anaconda3/envs/py27/lib/python2.7/site-packages (from matplotlib>=1.3.1->scikit-image)\n",
      "Requirement already satisfied: functools32 in /home/szhao4/anaconda3/envs/py27/lib/python2.7/site-packages (from matplotlib>=1.3.1->scikit-image)\n",
      "Requirement already satisfied: subprocess32 in /home/szhao4/anaconda3/envs/py27/lib/python2.7/site-packages (from matplotlib>=1.3.1->scikit-image)\n",
      "Requirement already satisfied: pytz in /home/szhao4/anaconda3/envs/py27/lib/python2.7/site-packages (from matplotlib>=1.3.1->scikit-image)\n",
      "Requirement already satisfied: cycler>=0.10 in /home/szhao4/anaconda3/envs/py27/lib/python2.7/site-packages (from matplotlib>=1.3.1->scikit-image)\n",
      "Requirement already satisfied: pyparsing!=2.0.4,!=2.1.2,!=2.1.6,>=1.5.6 in /home/szhao4/anaconda3/envs/py27/lib/python2.7/site-packages (from matplotlib>=1.3.1->scikit-image)\n",
      "Requirement already satisfied: olefile in /home/szhao4/anaconda3/envs/py27/lib/python2.7/site-packages (from pillow>=2.1.0->scikit-image)\n",
      "Collecting decorator>=4.1.0 (from networkx>=1.8->scikit-image)\n",
      "  Downloading decorator-4.1.2-py2.py3-none-any.whl\n",
      "Building wheels for collected packages: networkx\n",
      "  Running setup.py bdist_wheel for networkx ... \u001b[?25l-\b \b\\\b \b|\b \b/\b \bdone\n",
      "\u001b[?25h  Stored in directory: /home/szhao4/.cache/pip/wheels/27/82/23/785d5d01de2271edf929ac2761cb5dafc0dfa76a0861bfd128\n",
      "Successfully built networkx\n",
      "Installing collected packages: decorator, networkx, PyWavelets, scipy, scikit-image\n",
      "  Found existing installation: decorator 4.0.6\n",
      "    Uninstalling decorator-4.0.6:\n",
      "      Successfully uninstalled decorator-4.0.6\n",
      "  Found existing installation: scipy 0.16.1\n",
      "    Uninstalling scipy-0.16.1:\n",
      "      Successfully uninstalled scipy-0.16.1\n",
      "Successfully installed PyWavelets-0.5.2 decorator-4.1.2 networkx-2.0 scikit-image-0.13.1 scipy-0.19.1\n"
     ]
    }
   ],
   "source": [
    "!pip install scikit-image"
   ]
  },
  {
   "cell_type": "code",
   "execution_count": 3,
   "metadata": {
    "collapsed": false
   },
   "outputs": [
    {
     "name": "stdout",
     "output_type": "stream",
     "text": [
      "--2017-10-03 00:48:38--  https://raw.githubusercontent.com/cthorey/CS231/master/assignment3/ImageGradients.ipynb\n",
      "Resolving raw.githubusercontent.com (raw.githubusercontent.com)... 151.101.0.133, 151.101.64.133, 151.101.128.133, ...\n",
      "Connecting to raw.githubusercontent.com (raw.githubusercontent.com)|151.101.0.133|:443... connected.\n",
      "HTTP request sent, awaiting response... 200 OK\n",
      "Length: 866073 (846K) [text/plain]\n",
      "Saving to: ‘ImageGradients.ipynb.1’\n",
      "\n",
      "100%[======================================>] 866,073     2.43MB/s   in 0.3s   \n",
      "\n",
      "2017-10-03 00:48:39 (2.43 MB/s) - ‘ImageGradients.ipynb.1’ saved [866073/866073]\n",
      "\n"
     ]
    }
   ],
   "source": [
    "!wget https://raw.githubusercontent.com/cthorey/CS231/master/assignment3/ImageGradients.ipynb"
   ]
  },
  {
   "cell_type": "code",
   "execution_count": null,
   "metadata": {
    "collapsed": true
   },
   "outputs": [],
   "source": []
  }
 ],
 "metadata": {
  "kernelspec": {
   "display_name": "Python 2",
   "language": "python",
   "name": "python2"
  },
  "language_info": {
   "codemirror_mode": {
    "name": "ipython",
    "version": 2
   },
   "file_extension": ".py",
   "mimetype": "text/x-python",
   "name": "python",
   "nbconvert_exporter": "python",
   "pygments_lexer": "ipython2",
   "version": "2.7.13"
  }
 },
 "nbformat": 4,
 "nbformat_minor": 0
}
