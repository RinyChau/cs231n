{
 "cells": [
  {
   "cell_type": "code",
   "execution_count": 14,
   "metadata": {
    "collapsed": false
   },
   "outputs": [],
   "source": [
    "import threading\n",
    "import urllib2 \n",
    "class FetchUrls(threading.Thread):\n",
    "    \"\"\"\n",
    "    Thread checking URLs.\n",
    "    \"\"\"\n",
    "\n",
    "    def __init__(self, urls, output):\n",
    "        \"\"\"\n",
    "        Constructor.\n",
    "\n",
    "        @param urls list of urls to check\n",
    "        @param output file to write urls output\n",
    "        \"\"\"\n",
    "        threading.Thread.__init__(self)\n",
    "        self.urls = urls\n",
    "        self.output = output\n",
    "    \n",
    "    def run(self):\n",
    "        \"\"\"\n",
    "        Thread run method. Check URLs one by one.\n",
    "        \"\"\"\n",
    "        while self.urls:\n",
    "            url = self.urls.pop()\n",
    "            req = urllib2.Request(url)\n",
    "            try:\n",
    "                d = urllib2.urlopen(req)\n",
    "            except urllib2.URLError, e:\n",
    "                print 'URL %s failed: %s' % (url, e.reason)\n",
    "            self.output.write(d.read())\n",
    "            print 'write done by %s' % self.name\n",
    "            print 'URL %s fetched by %s' % (url, self.name)"
   ]
  },
  {
   "cell_type": "code",
   "execution_count": 16,
   "metadata": {
    "collapsed": false
   },
   "outputs": [
    {
     "name": "stdout",
     "output_type": "stream",
     "text": [
      "write done by Thread-9\n",
      "URL http://www.facebook.com fetched by Thread-9\n",
      "write done by Thread-9\n",
      "URL http://www.google.com fetched by Thread-9\n",
      "write done by Thread-10\n",
      "URL http://www.youtube.com fetched by Thread-10\n",
      "write done by Thread-10\n",
      "URL http://www.yahoo.com fetched by Thread-10\n"
     ]
    }
   ],
   "source": [
    "def main():\n",
    "    # list 1 of urls to fetch\n",
    "    urls1 = ['http://www.google.com', 'http://www.facebook.com']\n",
    "    # list 2 of urls to fetch\n",
    "    urls2 = ['http://www.yahoo.com', 'http://www.youtube.com']\n",
    "    f = open('output.txt', 'w+')\n",
    "    t1 = FetchUrls(urls1, f)\n",
    "    t2 = FetchUrls(urls2, f)\n",
    "    t1.start()\n",
    "    t2.start()\n",
    "    t1.join()\n",
    "    t2.join()\n",
    "    f.close()\n",
    "\n",
    "if __name__ == '__main__':\n",
    "    main()"
   ]
  },
  {
   "cell_type": "code",
   "execution_count": 17,
   "metadata": {
    "collapsed": false
   },
   "outputs": [],
   "source": [
    "import time\n",
    "import urllib2\n",
    "import threading\n",
    "\n",
    "class FetchUrls(threading.Thread):\n",
    "    \"\"\"\n",
    "    Thread checking URLs.\n",
    "    \"\"\"\n",
    "\n",
    "    def __init__(self, urls, output, lock):\n",
    "        \"\"\"\n",
    "        Constructor.\n",
    "\n",
    "        @param urls list of urls to check\n",
    "        @param output file to write urls output\n",
    "        \"\"\"\n",
    "        threading.Thread.__init__(self)\n",
    "        self.urls = urls\n",
    "        self.output = output\n",
    "        self.lock = lock\n",
    "    \n",
    "    def run(self):\n",
    "        \"\"\"\n",
    "        Thread run method. Check URLs one by one.\n",
    "        \"\"\"\n",
    "        while self.urls:\n",
    "            url = self.urls.pop()\n",
    "            req = urllib2.Request(url)\n",
    "            try:\n",
    "                d = urllib2.urlopen(req)\n",
    "            except urllib2.URLError, e:\n",
    "                print 'URL %s failed: %s' % (url, e.reason)\n",
    "            self.lock.acquire()\n",
    "            print 'lock acquired by %s' % self.name\n",
    "            self.output.write(d.read())\n",
    "            print 'write done by %s' % self.name\n",
    "            print 'lock released by %s' % self.name\n",
    "            self.lock.release()\n",
    "            print 'URL %s fetched by %s' % (url, self.name)"
   ]
  },
  {
   "cell_type": "code",
   "execution_count": 18,
   "metadata": {
    "collapsed": false
   },
   "outputs": [
    {
     "name": "stdout",
     "output_type": "stream",
     "text": [
      "lock acquired by Thread-12\n",
      "write done by Thread-12\n",
      "lock released by Thread-12\n",
      "URL http://www.youtube.com fetched by Thread-12\n",
      " lock acquired by Thread-11\n",
      "write done by Thread-11\n",
      "lock released by Thread-11\n",
      "URL http://www.facebook.com fetched by Thread-11\n",
      "lock acquired by Thread-11\n",
      "write done by Thread-11\n",
      "lock released by Thread-11\n",
      "URL http://www.google.com fetched by Thread-11\n",
      "lock acquired by Thread-12\n",
      "write done by Thread-12\n",
      "lock released by Thread-12\n",
      "URL http://www.yahoo.com fetched by Thread-12\n"
     ]
    }
   ],
   "source": [
    "def main():\n",
    "    # list 1 of urls to fetch\n",
    "    urls1 = ['http://www.google.com', 'http://www.facebook.com']\n",
    "    # list 2 of urls to fetch\n",
    "    urls2 = ['http://www.yahoo.com', 'http://www.youtube.com']\n",
    "    lock = threading.Lock()\n",
    "    f = open('output.txt', 'w+')\n",
    "    t1 = FetchUrls(urls1, f, lock)\n",
    "    t2 = FetchUrls(urls2, f, lock)\n",
    "    t1.start()\n",
    "    t2.start()\n",
    "    t1.join()\n",
    "    t2.join()\n",
    "    f.close()\n",
    "\n",
    "if __name__ == '__main__':\n",
    "    main()"
   ]
  },
  {
   "cell_type": "code",
   "execution_count": null,
   "metadata": {
    "collapsed": true
   },
   "outputs": [],
   "source": []
  }
 ],
 "metadata": {
  "kernelspec": {
   "display_name": "Python 2",
   "language": "python",
   "name": "python2"
  },
  "language_info": {
   "codemirror_mode": {
    "name": "ipython",
    "version": 2
   },
   "file_extension": ".py",
   "mimetype": "text/x-python",
   "name": "python",
   "nbconvert_exporter": "python",
   "pygments_lexer": "ipython2",
   "version": "2.7.13"
  }
 },
 "nbformat": 4,
 "nbformat_minor": 0
}
