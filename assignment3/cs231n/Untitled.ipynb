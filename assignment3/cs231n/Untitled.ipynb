{
 "cells": [
  {
   "cell_type": "code",
   "execution_count": 1,
   "metadata": {
    "collapsed": false
   },
   "outputs": [
    {
     "name": "stdout",
     "output_type": "stream",
     "text": [
      "Compiling im2col_cython.pyx because it changed.\n",
      "[1/1] Cythonizing im2col_cython.pyx\n",
      "running build_ext\n",
      "building 'im2col_cython' extension\n",
      "creating build\n",
      "creating build/temp.linux-x86_64-2.7\n",
      "gcc -pthread -fno-strict-aliasing -g -O2 -DNDEBUG -g -fwrapv -O3 -Wall -Wstrict-prototypes -fPIC -I/home/szhao4/anaconda3/envs/py27/lib/python2.7/site-packages/numpy/core/include -I/home/szhao4/anaconda3/envs/py27/include/python2.7 -c im2col_cython.c -o build/temp.linux-x86_64-2.7/im2col_cython.o\n",
      "In file included from /home/szhao4/anaconda3/envs/py27/lib/python2.7/site-packages/numpy/core/include/numpy/ndarraytypes.h:1781:0,\n",
      "                 from /home/szhao4/anaconda3/envs/py27/lib/python2.7/site-packages/numpy/core/include/numpy/ndarrayobject.h:18,\n",
      "                 from /home/szhao4/anaconda3/envs/py27/lib/python2.7/site-packages/numpy/core/include/numpy/arrayobject.h:4,\n",
      "                 from im2col_cython.c:256:\n",
      "/home/szhao4/anaconda3/envs/py27/lib/python2.7/site-packages/numpy/core/include/numpy/npy_1_7_deprecated_api.h:15:2: warning: #warning \"Using deprecated NumPy API, disable it by \" \"#defining NPY_NO_DEPRECATED_API NPY_1_7_API_VERSION\" [-Wcpp]\n",
      " #warning \"Using deprecated NumPy API, disable it by \" \\\n",
      "  ^\n",
      "In file included from /home/szhao4/anaconda3/envs/py27/lib/python2.7/site-packages/numpy/core/include/numpy/ndarrayobject.h:27:0,\n",
      "                 from /home/szhao4/anaconda3/envs/py27/lib/python2.7/site-packages/numpy/core/include/numpy/arrayobject.h:4,\n",
      "                 from im2col_cython.c:256:\n",
      "/home/szhao4/anaconda3/envs/py27/lib/python2.7/site-packages/numpy/core/include/numpy/__multiarray_api.h:1634:1: warning: ‘_import_array’ defined but not used [-Wunused-function]\n",
      " _import_array(void)\n",
      " ^\n",
      "gcc -pthread -shared -L/home/szhao4/anaconda3/envs/py27/lib -Wl,-rpath=/home/szhao4/anaconda3/envs/py27/lib,--no-as-needed build/temp.linux-x86_64-2.7/im2col_cython.o -L/home/szhao4/anaconda3/envs/py27/lib -lpython2.7 -o /home/szhao4/cs231n-assignment1/assignment3/cs231n/im2col_cython.so\n"
     ]
    }
   ],
   "source": [
    "!python setup.py build_ext --inplace"
   ]
  },
  {
   "cell_type": "code",
   "execution_count": null,
   "metadata": {
    "collapsed": true
   },
   "outputs": [],
   "source": []
  }
 ],
 "metadata": {
  "kernelspec": {
   "display_name": "Python 2",
   "language": "python",
   "name": "python2"
  },
  "language_info": {
   "codemirror_mode": {
    "name": "ipython",
    "version": 2
   },
   "file_extension": ".py",
   "mimetype": "text/x-python",
   "name": "python",
   "nbconvert_exporter": "python",
   "pygments_lexer": "ipython2",
   "version": "2.7.13"
  }
 },
 "nbformat": 4,
 "nbformat_minor": 0
}
